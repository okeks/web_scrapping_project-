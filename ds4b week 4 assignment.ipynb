{
 "cells": [
  {
   "cell_type": "markdown",
   "metadata": {},
   "source": [
    "#### Assignment "
   ]
  },
  {
   "cell_type": "code",
   "execution_count": 2,
   "metadata": {},
   "outputs": [],
   "source": [
    "import pandas as pd\n"
   ]
  },
  {
   "cell_type": "code",
   "execution_count": 3,
   "metadata": {},
   "outputs": [],
   "source": [
    "probs = pd.read_csv('probs.csv')"
   ]
  },
  {
   "cell_type": "code",
   "execution_count": 4,
   "metadata": {},
   "outputs": [],
   "source": [
    "truths = pd.read_csv('truths.csv')"
   ]
  },
  {
   "cell_type": "code",
   "execution_count": 5,
   "metadata": {},
   "outputs": [
    {
     "data": {
      "text/html": [
       "<div>\n",
       "<style scoped>\n",
       "    .dataframe tbody tr th:only-of-type {\n",
       "        vertical-align: middle;\n",
       "    }\n",
       "\n",
       "    .dataframe tbody tr th {\n",
       "        vertical-align: top;\n",
       "    }\n",
       "\n",
       "    .dataframe thead th {\n",
       "        text-align: right;\n",
       "    }\n",
       "</style>\n",
       "<table border=\"1\" class=\"dataframe\">\n",
       "  <thead>\n",
       "    <tr style=\"text-align: right;\">\n",
       "      <th></th>\n",
       "      <th>Instance</th>\n",
       "      <th>estimated pop</th>\n",
       "    </tr>\n",
       "  </thead>\n",
       "  <tbody>\n",
       "    <tr>\n",
       "      <th>0</th>\n",
       "      <td>0</td>\n",
       "      <td>0.058539</td>\n",
       "    </tr>\n",
       "    <tr>\n",
       "      <th>1</th>\n",
       "      <td>1</td>\n",
       "      <td>0.081055</td>\n",
       "    </tr>\n",
       "    <tr>\n",
       "      <th>2</th>\n",
       "      <td>2</td>\n",
       "      <td>0.050623</td>\n",
       "    </tr>\n",
       "    <tr>\n",
       "      <th>3</th>\n",
       "      <td>3</td>\n",
       "      <td>0.069877</td>\n",
       "    </tr>\n",
       "    <tr>\n",
       "      <th>4</th>\n",
       "      <td>4</td>\n",
       "      <td>0.039935</td>\n",
       "    </tr>\n",
       "  </tbody>\n",
       "</table>\n",
       "</div>"
      ],
      "text/plain": [
       "   Instance  estimated pop\n",
       "0         0       0.058539\n",
       "1         1       0.081055\n",
       "2         2       0.050623\n",
       "3         3       0.069877\n",
       "4         4       0.039935"
      ]
     },
     "execution_count": 5,
     "metadata": {},
     "output_type": "execute_result"
    }
   ],
   "source": [
    "probs.head()"
   ]
  },
  {
   "cell_type": "code",
   "execution_count": 6,
   "metadata": {},
   "outputs": [
    {
     "data": {
      "text/html": [
       "<div>\n",
       "<style scoped>\n",
       "    .dataframe tbody tr th:only-of-type {\n",
       "        vertical-align: middle;\n",
       "    }\n",
       "\n",
       "    .dataframe tbody tr th {\n",
       "        vertical-align: top;\n",
       "    }\n",
       "\n",
       "    .dataframe thead th {\n",
       "        text-align: right;\n",
       "    }\n",
       "</style>\n",
       "<table border=\"1\" class=\"dataframe\">\n",
       "  <thead>\n",
       "    <tr style=\"text-align: right;\">\n",
       "      <th></th>\n",
       "      <th>Instance</th>\n",
       "      <th>purchased</th>\n",
       "    </tr>\n",
       "  </thead>\n",
       "  <tbody>\n",
       "    <tr>\n",
       "      <th>0</th>\n",
       "      <td>0</td>\n",
       "      <td>1</td>\n",
       "    </tr>\n",
       "    <tr>\n",
       "      <th>1</th>\n",
       "      <td>1</td>\n",
       "      <td>0</td>\n",
       "    </tr>\n",
       "    <tr>\n",
       "      <th>2</th>\n",
       "      <td>2</td>\n",
       "      <td>0</td>\n",
       "    </tr>\n",
       "    <tr>\n",
       "      <th>3</th>\n",
       "      <td>3</td>\n",
       "      <td>0</td>\n",
       "    </tr>\n",
       "    <tr>\n",
       "      <th>4</th>\n",
       "      <td>4</td>\n",
       "      <td>0</td>\n",
       "    </tr>\n",
       "  </tbody>\n",
       "</table>\n",
       "</div>"
      ],
      "text/plain": [
       "   Instance  purchased\n",
       "0         0          1\n",
       "1         1          0\n",
       "2         2          0\n",
       "3         3          0\n",
       "4         4          0"
      ]
     },
     "execution_count": 6,
     "metadata": {},
     "output_type": "execute_result"
    }
   ],
   "source": [
    "truths.head()"
   ]
  },
  {
   "cell_type": "code",
   "execution_count": 7,
   "metadata": {},
   "outputs": [],
   "source": [
    "probs_truth = pd.merge(probs, truths, on='Instance')\n",
    "\n"
   ]
  },
  {
   "cell_type": "code",
   "execution_count": 8,
   "metadata": {},
   "outputs": [
    {
     "data": {
      "text/html": [
       "<div>\n",
       "<style scoped>\n",
       "    .dataframe tbody tr th:only-of-type {\n",
       "        vertical-align: middle;\n",
       "    }\n",
       "\n",
       "    .dataframe tbody tr th {\n",
       "        vertical-align: top;\n",
       "    }\n",
       "\n",
       "    .dataframe thead th {\n",
       "        text-align: right;\n",
       "    }\n",
       "</style>\n",
       "<table border=\"1\" class=\"dataframe\">\n",
       "  <thead>\n",
       "    <tr style=\"text-align: right;\">\n",
       "      <th></th>\n",
       "      <th>Instance</th>\n",
       "      <th>estimated pop</th>\n",
       "      <th>purchased</th>\n",
       "    </tr>\n",
       "  </thead>\n",
       "  <tbody>\n",
       "    <tr>\n",
       "      <th>0</th>\n",
       "      <td>0</td>\n",
       "      <td>0.058539</td>\n",
       "      <td>1</td>\n",
       "    </tr>\n",
       "    <tr>\n",
       "      <th>1</th>\n",
       "      <td>1</td>\n",
       "      <td>0.081055</td>\n",
       "      <td>0</td>\n",
       "    </tr>\n",
       "    <tr>\n",
       "      <th>2</th>\n",
       "      <td>2</td>\n",
       "      <td>0.050623</td>\n",
       "      <td>0</td>\n",
       "    </tr>\n",
       "    <tr>\n",
       "      <th>3</th>\n",
       "      <td>3</td>\n",
       "      <td>0.069877</td>\n",
       "      <td>0</td>\n",
       "    </tr>\n",
       "    <tr>\n",
       "      <th>4</th>\n",
       "      <td>4</td>\n",
       "      <td>0.039935</td>\n",
       "      <td>0</td>\n",
       "    </tr>\n",
       "  </tbody>\n",
       "</table>\n",
       "</div>"
      ],
      "text/plain": [
       "   Instance  estimated pop  purchased\n",
       "0         0       0.058539          1\n",
       "1         1       0.081055          0\n",
       "2         2       0.050623          0\n",
       "3         3       0.069877          0\n",
       "4         4       0.039935          0"
      ]
     },
     "execution_count": 8,
     "metadata": {},
     "output_type": "execute_result"
    }
   ],
   "source": [
    "probs_truth.head()"
   ]
  },
  {
   "cell_type": "code",
   "execution_count": 9,
   "metadata": {},
   "outputs": [],
   "source": [
    "probs_truth['prob_estimate_binned'] = pd.cut(probs_truth['estimated pop'],10)"
   ]
  },
  {
   "cell_type": "code",
   "execution_count": 10,
   "metadata": {},
   "outputs": [
    {
     "data": {
      "text/plain": [
       "0        (-0.000698, 0.0698]\n",
       "1             (0.0698, 0.14]\n",
       "2        (-0.000698, 0.0698]\n",
       "3             (0.0698, 0.14]\n",
       "4        (-0.000698, 0.0698]\n",
       "5        (-0.000698, 0.0698]\n",
       "6        (-0.000698, 0.0698]\n",
       "7        (-0.000698, 0.0698]\n",
       "8        (-0.000698, 0.0698]\n",
       "9        (-0.000698, 0.0698]\n",
       "10            (0.0698, 0.14]\n",
       "11       (-0.000698, 0.0698]\n",
       "12       (-0.000698, 0.0698]\n",
       "13       (-0.000698, 0.0698]\n",
       "14       (-0.000698, 0.0698]\n",
       "15       (-0.000698, 0.0698]\n",
       "16       (-0.000698, 0.0698]\n",
       "17            (0.0698, 0.14]\n",
       "18       (-0.000698, 0.0698]\n",
       "19       (-0.000698, 0.0698]\n",
       "20       (-0.000698, 0.0698]\n",
       "21       (-0.000698, 0.0698]\n",
       "22       (-0.000698, 0.0698]\n",
       "23       (-0.000698, 0.0698]\n",
       "24       (-0.000698, 0.0698]\n",
       "25       (-0.000698, 0.0698]\n",
       "26       (-0.000698, 0.0698]\n",
       "27       (-0.000698, 0.0698]\n",
       "28       (-0.000698, 0.0698]\n",
       "29            (0.0698, 0.14]\n",
       "                ...         \n",
       "47914    (-0.000698, 0.0698]\n",
       "47915    (-0.000698, 0.0698]\n",
       "47916    (-0.000698, 0.0698]\n",
       "47917    (-0.000698, 0.0698]\n",
       "47918         (0.0698, 0.14]\n",
       "47919    (-0.000698, 0.0698]\n",
       "47920    (-0.000698, 0.0698]\n",
       "47921    (-0.000698, 0.0698]\n",
       "47922    (-0.000698, 0.0698]\n",
       "47923    (-0.000698, 0.0698]\n",
       "47924         (0.0698, 0.14]\n",
       "47925    (-0.000698, 0.0698]\n",
       "47926    (-0.000698, 0.0698]\n",
       "47927    (-0.000698, 0.0698]\n",
       "47928    (-0.000698, 0.0698]\n",
       "47929    (-0.000698, 0.0698]\n",
       "47930    (-0.000698, 0.0698]\n",
       "47931    (-0.000698, 0.0698]\n",
       "47932    (-0.000698, 0.0698]\n",
       "47933    (-0.000698, 0.0698]\n",
       "47934    (-0.000698, 0.0698]\n",
       "47935    (-0.000698, 0.0698]\n",
       "47936    (-0.000698, 0.0698]\n",
       "47937    (-0.000698, 0.0698]\n",
       "47938    (-0.000698, 0.0698]\n",
       "47939    (-0.000698, 0.0698]\n",
       "47940    (-0.000698, 0.0698]\n",
       "47941    (-0.000698, 0.0698]\n",
       "47942    (-0.000698, 0.0698]\n",
       "47943    (-0.000698, 0.0698]\n",
       "Name: prob_estimate_binned, Length: 47944, dtype: category\n",
       "Categories (10, interval[float64]): [(-0.000698, 0.0698] < (0.0698, 0.14] < (0.14, 0.209] < (0.209, 0.279] ... (0.419, 0.489] < (0.489, 0.559] < (0.559, 0.628] < (0.628, 0.698]]"
      ]
     },
     "execution_count": 10,
     "metadata": {},
     "output_type": "execute_result"
    }
   ],
   "source": [
    "probs_truth['prob_estimate_binned']"
   ]
  },
  {
   "cell_type": "code",
   "execution_count": 27,
   "metadata": {},
   "outputs": [
    {
     "data": {
      "image/png": "[encoded data removed]",
      "text/plain": [
       "<Figure size 288x288 with 1 Axes>"
      ]
     },
     "metadata": {
      "needs_background": "light"
     },
     "output_type": "display_data"
    }
   ],
   "source": [
    "import matplotlib.pyplot as plt\n",
    "table = pd.crosstab(probs_truth['prob_estimate_binned'],probs_truth['purchased'])\n",
    "table.plot(kind='bar', stacked=True,figsize=(4,4))\n",
    "plt.show()"
   ]
  },
  {
   "cell_type": "code",
   "execution_count": 29,
   "metadata": {},
   "outputs": [
    {
     "data": {
      "text/plain": [
       "(-0.000698, 0.0698]    44994\n",
       "(0.0698, 0.14]          2949\n",
       "(0.628, 0.698]             1\n",
       "(0.559, 0.628]             0\n",
       "(0.489, 0.559]             0\n",
       "(0.419, 0.489]             0\n",
       "(0.349, 0.419]             0\n",
       "(0.279, 0.349]             0\n",
       "(0.209, 0.279]             0\n",
       "(0.14, 0.209]              0\n",
       "Name: prob_estimate_binned, dtype: int64"
      ]
     },
     "execution_count": 29,
     "metadata": {},
     "output_type": "execute_result"
    }
   ],
   "source": [
    "probs_truth['prob_estimate_binned'].value_counts()"
   ]
  },
  {
   "cell_type": "code",
   "execution_count": 12,
   "metadata": {},
   "outputs": [
    {
     "data": {
      "text/html": [
       "<div>\n",
       "<style scoped>\n",
       "    .dataframe tbody tr th:only-of-type {\n",
       "        vertical-align: middle;\n",
       "    }\n",
       "\n",
       "    .dataframe tbody tr th {\n",
       "        vertical-align: top;\n",
       "    }\n",
       "\n",
       "    .dataframe thead th {\n",
       "        text-align: right;\n",
       "    }\n",
       "</style>\n",
       "<table border=\"1\" class=\"dataframe\">\n",
       "  <thead>\n",
       "    <tr style=\"text-align: right;\">\n",
       "      <th>purchased</th>\n",
       "      <th>0</th>\n",
       "      <th>1</th>\n",
       "    </tr>\n",
       "    <tr>\n",
       "      <th>prob_estimate_binned</th>\n",
       "      <th></th>\n",
       "      <th></th>\n",
       "    </tr>\n",
       "  </thead>\n",
       "  <tbody>\n",
       "    <tr>\n",
       "      <th>(-0.000698, 0.0698]</th>\n",
       "      <td>42730</td>\n",
       "      <td>2264</td>\n",
       "    </tr>\n",
       "    <tr>\n",
       "      <th>(0.0698, 0.14]</th>\n",
       "      <td>2818</td>\n",
       "      <td>131</td>\n",
       "    </tr>\n",
       "    <tr>\n",
       "      <th>(0.628, 0.698]</th>\n",
       "      <td>1</td>\n",
       "      <td>0</td>\n",
       "    </tr>\n",
       "  </tbody>\n",
       "</table>\n",
       "</div>"
      ],
      "text/plain": [
       "purchased                 0     1\n",
       "prob_estimate_binned             \n",
       "(-0.000698, 0.0698]   42730  2264\n",
       "(0.0698, 0.14]         2818   131\n",
       "(0.628, 0.698]            1     0"
      ]
     },
     "execution_count": 12,
     "metadata": {},
     "output_type": "execute_result"
    }
   ],
   "source": [
    "table"
   ]
  },
  {
   "cell_type": "code",
   "execution_count": 13,
   "metadata": {},
   "outputs": [
    {
     "data": {
      "text/html": [
       "<div>\n",
       "<style scoped>\n",
       "    .dataframe tbody tr th:only-of-type {\n",
       "        vertical-align: middle;\n",
       "    }\n",
       "\n",
       "    .dataframe tbody tr th {\n",
       "        vertical-align: top;\n",
       "    }\n",
       "\n",
       "    .dataframe thead th {\n",
       "        text-align: right;\n",
       "    }\n",
       "</style>\n",
       "<table border=\"1\" class=\"dataframe\">\n",
       "  <thead>\n",
       "    <tr style=\"text-align: right;\">\n",
       "      <th></th>\n",
       "      <th>Instance</th>\n",
       "      <th>estimated pop</th>\n",
       "      <th>purchased</th>\n",
       "      <th>prob_estimate_binned</th>\n",
       "    </tr>\n",
       "  </thead>\n",
       "  <tbody>\n",
       "    <tr>\n",
       "      <th>0</th>\n",
       "      <td>0</td>\n",
       "      <td>0.058539</td>\n",
       "      <td>1</td>\n",
       "      <td>(-0.000698, 0.0698]</td>\n",
       "    </tr>\n",
       "    <tr>\n",
       "      <th>1</th>\n",
       "      <td>1</td>\n",
       "      <td>0.081055</td>\n",
       "      <td>0</td>\n",
       "      <td>(0.0698, 0.14]</td>\n",
       "    </tr>\n",
       "    <tr>\n",
       "      <th>2</th>\n",
       "      <td>2</td>\n",
       "      <td>0.050623</td>\n",
       "      <td>0</td>\n",
       "      <td>(-0.000698, 0.0698]</td>\n",
       "    </tr>\n",
       "    <tr>\n",
       "      <th>3</th>\n",
       "      <td>3</td>\n",
       "      <td>0.069877</td>\n",
       "      <td>0</td>\n",
       "      <td>(0.0698, 0.14]</td>\n",
       "    </tr>\n",
       "    <tr>\n",
       "      <th>4</th>\n",
       "      <td>4</td>\n",
       "      <td>0.039935</td>\n",
       "      <td>0</td>\n",
       "      <td>(-0.000698, 0.0698]</td>\n",
       "    </tr>\n",
       "    <tr>\n",
       "      <th>5</th>\n",
       "      <td>5</td>\n",
       "      <td>0.044346</td>\n",
       "      <td>0</td>\n",
       "      <td>(-0.000698, 0.0698]</td>\n",
       "    </tr>\n",
       "    <tr>\n",
       "      <th>6</th>\n",
       "      <td>6</td>\n",
       "      <td>0.038370</td>\n",
       "      <td>0</td>\n",
       "      <td>(-0.000698, 0.0698]</td>\n",
       "    </tr>\n",
       "    <tr>\n",
       "      <th>7</th>\n",
       "      <td>7</td>\n",
       "      <td>0.045456</td>\n",
       "      <td>0</td>\n",
       "      <td>(-0.000698, 0.0698]</td>\n",
       "    </tr>\n",
       "    <tr>\n",
       "      <th>8</th>\n",
       "      <td>8</td>\n",
       "      <td>0.043330</td>\n",
       "      <td>0</td>\n",
       "      <td>(-0.000698, 0.0698]</td>\n",
       "    </tr>\n",
       "    <tr>\n",
       "      <th>9</th>\n",
       "      <td>9</td>\n",
       "      <td>0.051702</td>\n",
       "      <td>0</td>\n",
       "      <td>(-0.000698, 0.0698]</td>\n",
       "    </tr>\n",
       "    <tr>\n",
       "      <th>10</th>\n",
       "      <td>10</td>\n",
       "      <td>0.077241</td>\n",
       "      <td>0</td>\n",
       "      <td>(0.0698, 0.14]</td>\n",
       "    </tr>\n",
       "    <tr>\n",
       "      <th>11</th>\n",
       "      <td>11</td>\n",
       "      <td>0.045451</td>\n",
       "      <td>0</td>\n",
       "      <td>(-0.000698, 0.0698]</td>\n",
       "    </tr>\n",
       "    <tr>\n",
       "      <th>12</th>\n",
       "      <td>12</td>\n",
       "      <td>0.069711</td>\n",
       "      <td>0</td>\n",
       "      <td>(-0.000698, 0.0698]</td>\n",
       "    </tr>\n",
       "    <tr>\n",
       "      <th>13</th>\n",
       "      <td>13</td>\n",
       "      <td>0.037226</td>\n",
       "      <td>0</td>\n",
       "      <td>(-0.000698, 0.0698]</td>\n",
       "    </tr>\n",
       "    <tr>\n",
       "      <th>14</th>\n",
       "      <td>14</td>\n",
       "      <td>0.056444</td>\n",
       "      <td>0</td>\n",
       "      <td>(-0.000698, 0.0698]</td>\n",
       "    </tr>\n",
       "    <tr>\n",
       "      <th>15</th>\n",
       "      <td>15</td>\n",
       "      <td>0.045506</td>\n",
       "      <td>0</td>\n",
       "      <td>(-0.000698, 0.0698]</td>\n",
       "    </tr>\n",
       "    <tr>\n",
       "      <th>16</th>\n",
       "      <td>16</td>\n",
       "      <td>0.039127</td>\n",
       "      <td>0</td>\n",
       "      <td>(-0.000698, 0.0698]</td>\n",
       "    </tr>\n",
       "    <tr>\n",
       "      <th>17</th>\n",
       "      <td>17</td>\n",
       "      <td>0.079328</td>\n",
       "      <td>1</td>\n",
       "      <td>(0.0698, 0.14]</td>\n",
       "    </tr>\n",
       "    <tr>\n",
       "      <th>18</th>\n",
       "      <td>18</td>\n",
       "      <td>0.043750</td>\n",
       "      <td>0</td>\n",
       "      <td>(-0.000698, 0.0698]</td>\n",
       "    </tr>\n",
       "    <tr>\n",
       "      <th>19</th>\n",
       "      <td>19</td>\n",
       "      <td>0.046947</td>\n",
       "      <td>0</td>\n",
       "      <td>(-0.000698, 0.0698]</td>\n",
       "    </tr>\n",
       "    <tr>\n",
       "      <th>20</th>\n",
       "      <td>20</td>\n",
       "      <td>0.045068</td>\n",
       "      <td>0</td>\n",
       "      <td>(-0.000698, 0.0698]</td>\n",
       "    </tr>\n",
       "    <tr>\n",
       "      <th>21</th>\n",
       "      <td>21</td>\n",
       "      <td>0.044976</td>\n",
       "      <td>1</td>\n",
       "      <td>(-0.000698, 0.0698]</td>\n",
       "    </tr>\n",
       "    <tr>\n",
       "      <th>22</th>\n",
       "      <td>22</td>\n",
       "      <td>0.055021</td>\n",
       "      <td>0</td>\n",
       "      <td>(-0.000698, 0.0698]</td>\n",
       "    </tr>\n",
       "    <tr>\n",
       "      <th>23</th>\n",
       "      <td>23</td>\n",
       "      <td>0.060328</td>\n",
       "      <td>0</td>\n",
       "      <td>(-0.000698, 0.0698]</td>\n",
       "    </tr>\n",
       "    <tr>\n",
       "      <th>24</th>\n",
       "      <td>24</td>\n",
       "      <td>0.035768</td>\n",
       "      <td>0</td>\n",
       "      <td>(-0.000698, 0.0698]</td>\n",
       "    </tr>\n",
       "    <tr>\n",
       "      <th>25</th>\n",
       "      <td>25</td>\n",
       "      <td>0.052293</td>\n",
       "      <td>1</td>\n",
       "      <td>(-0.000698, 0.0698]</td>\n",
       "    </tr>\n",
       "    <tr>\n",
       "      <th>26</th>\n",
       "      <td>26</td>\n",
       "      <td>0.055849</td>\n",
       "      <td>0</td>\n",
       "      <td>(-0.000698, 0.0698]</td>\n",
       "    </tr>\n",
       "    <tr>\n",
       "      <th>27</th>\n",
       "      <td>27</td>\n",
       "      <td>0.066095</td>\n",
       "      <td>0</td>\n",
       "      <td>(-0.000698, 0.0698]</td>\n",
       "    </tr>\n",
       "    <tr>\n",
       "      <th>28</th>\n",
       "      <td>28</td>\n",
       "      <td>0.044403</td>\n",
       "      <td>0</td>\n",
       "      <td>(-0.000698, 0.0698]</td>\n",
       "    </tr>\n",
       "    <tr>\n",
       "      <th>29</th>\n",
       "      <td>29</td>\n",
       "      <td>0.078764</td>\n",
       "      <td>1</td>\n",
       "      <td>(0.0698, 0.14]</td>\n",
       "    </tr>\n",
       "  </tbody>\n",
       "</table>\n",
       "</div>"
      ],
      "text/plain": [
       "    Instance  estimated pop  purchased prob_estimate_binned\n",
       "0          0       0.058539          1  (-0.000698, 0.0698]\n",
       "1          1       0.081055          0       (0.0698, 0.14]\n",
       "2          2       0.050623          0  (-0.000698, 0.0698]\n",
       "3          3       0.069877          0       (0.0698, 0.14]\n",
       "4          4       0.039935          0  (-0.000698, 0.0698]\n",
       "5          5       0.044346          0  (-0.000698, 0.0698]\n",
       "6          6       0.038370          0  (-0.000698, 0.0698]\n",
       "7          7       0.045456          0  (-0.000698, 0.0698]\n",
       "8          8       0.043330          0  (-0.000698, 0.0698]\n",
       "9          9       0.051702          0  (-0.000698, 0.0698]\n",
       "10        10       0.077241          0       (0.0698, 0.14]\n",
       "11        11       0.045451          0  (-0.000698, 0.0698]\n",
       "12        12       0.069711          0  (-0.000698, 0.0698]\n",
       "13        13       0.037226          0  (-0.000698, 0.0698]\n",
       "14        14       0.056444          0  (-0.000698, 0.0698]\n",
       "15        15       0.045506          0  (-0.000698, 0.0698]\n",
       "16        16       0.039127          0  (-0.000698, 0.0698]\n",
       "17        17       0.079328          1       (0.0698, 0.14]\n",
       "18        18       0.043750          0  (-0.000698, 0.0698]\n",
       "19        19       0.046947          0  (-0.000698, 0.0698]\n",
       "20        20       0.045068          0  (-0.000698, 0.0698]\n",
       "21        21       0.044976          1  (-0.000698, 0.0698]\n",
       "22        22       0.055021          0  (-0.000698, 0.0698]\n",
       "23        23       0.060328          0  (-0.000698, 0.0698]\n",
       "24        24       0.035768          0  (-0.000698, 0.0698]\n",
       "25        25       0.052293          1  (-0.000698, 0.0698]\n",
       "26        26       0.055849          0  (-0.000698, 0.0698]\n",
       "27        27       0.066095          0  (-0.000698, 0.0698]\n",
       "28        28       0.044403          0  (-0.000698, 0.0698]\n",
       "29        29       0.078764          1       (0.0698, 0.14]"
      ]
     },
     "execution_count": 13,
     "metadata": {},
     "output_type": "execute_result"
    }
   ],
   "source": [
    "probs_truth.head(30)"
   ]
  },
  {
   "cell_type": "code",
   "execution_count": 14,
   "metadata": {},
   "outputs": [],
   "source": [
    "probs_point_five = probs_truth[probs_truth['estimated pop'] > 0.5]"
   ]
  },
  {
   "cell_type": "code",
   "execution_count": 15,
   "metadata": {},
   "outputs": [
    {
     "data": {
      "text/html": [
       "<div>\n",
       "<style scoped>\n",
       "    .dataframe tbody tr th:only-of-type {\n",
       "        vertical-align: middle;\n",
       "    }\n",
       "\n",
       "    .dataframe tbody tr th {\n",
       "        vertical-align: top;\n",
       "    }\n",
       "\n",
       "    .dataframe thead th {\n",
       "        text-align: right;\n",
       "    }\n",
       "</style>\n",
       "<table border=\"1\" class=\"dataframe\">\n",
       "  <thead>\n",
       "    <tr style=\"text-align: right;\">\n",
       "      <th></th>\n",
       "      <th>Instance</th>\n",
       "      <th>estimated pop</th>\n",
       "      <th>purchased</th>\n",
       "      <th>prob_estimate_binned</th>\n",
       "    </tr>\n",
       "  </thead>\n",
       "  <tbody>\n",
       "    <tr>\n",
       "      <th>6935</th>\n",
       "      <td>6935</td>\n",
       "      <td>0.698223</td>\n",
       "      <td>0</td>\n",
       "      <td>(0.628, 0.698]</td>\n",
       "    </tr>\n",
       "  </tbody>\n",
       "</table>\n",
       "</div>"
      ],
      "text/plain": [
       "      Instance  estimated pop  purchased prob_estimate_binned\n",
       "6935      6935       0.698223          0       (0.628, 0.698]"
      ]
     },
     "execution_count": 15,
     "metadata": {},
     "output_type": "execute_result"
    }
   ],
   "source": [
    "probs_point_five"
   ]
  },
  {
   "cell_type": "markdown",
   "metadata": {},
   "source": [
    "### for threshold of  > 0.5"
   ]
  },
  {
   "cell_type": "markdown",
   "metadata": {},
   "source": [
    "coverting purchases of greater than 0.5 to 1 and less than 0.5 coverted to 0"
   ]
  },
  {
   "cell_type": "code",
   "execution_count": 16,
   "metadata": {},
   "outputs": [],
   "source": [
    "probs_truth['greater_than_0.5'] = probs_truth['estimated pop'].apply(lambda x: 1 if x > 0.5 else 0)\n",
    "probs_truth['greater_than_0.05'] = probs_truth['estimated pop'].apply(lambda x: 1 if x > 0.05 else 0)"
   ]
  },
  {
   "cell_type": "code",
   "execution_count": 17,
   "metadata": {},
   "outputs": [
    {
     "data": {
      "text/html": [
       "<div>\n",
       "<style scoped>\n",
       "    .dataframe tbody tr th:only-of-type {\n",
       "        vertical-align: middle;\n",
       "    }\n",
       "\n",
       "    .dataframe tbody tr th {\n",
       "        vertical-align: top;\n",
       "    }\n",
       "\n",
       "    .dataframe thead th {\n",
       "        text-align: right;\n",
       "    }\n",
       "</style>\n",
       "<table border=\"1\" class=\"dataframe\">\n",
       "  <thead>\n",
       "    <tr style=\"text-align: right;\">\n",
       "      <th></th>\n",
       "      <th>Instance</th>\n",
       "      <th>estimated pop</th>\n",
       "      <th>purchased</th>\n",
       "      <th>prob_estimate_binned</th>\n",
       "      <th>greater_than_0.5</th>\n",
       "      <th>greater_than_0.05</th>\n",
       "    </tr>\n",
       "  </thead>\n",
       "  <tbody>\n",
       "    <tr>\n",
       "      <th>0</th>\n",
       "      <td>0</td>\n",
       "      <td>0.058539</td>\n",
       "      <td>1</td>\n",
       "      <td>(-0.000698, 0.0698]</td>\n",
       "      <td>0</td>\n",
       "      <td>1</td>\n",
       "    </tr>\n",
       "    <tr>\n",
       "      <th>1</th>\n",
       "      <td>1</td>\n",
       "      <td>0.081055</td>\n",
       "      <td>0</td>\n",
       "      <td>(0.0698, 0.14]</td>\n",
       "      <td>0</td>\n",
       "      <td>1</td>\n",
       "    </tr>\n",
       "    <tr>\n",
       "      <th>2</th>\n",
       "      <td>2</td>\n",
       "      <td>0.050623</td>\n",
       "      <td>0</td>\n",
       "      <td>(-0.000698, 0.0698]</td>\n",
       "      <td>0</td>\n",
       "      <td>1</td>\n",
       "    </tr>\n",
       "    <tr>\n",
       "      <th>3</th>\n",
       "      <td>3</td>\n",
       "      <td>0.069877</td>\n",
       "      <td>0</td>\n",
       "      <td>(0.0698, 0.14]</td>\n",
       "      <td>0</td>\n",
       "      <td>1</td>\n",
       "    </tr>\n",
       "    <tr>\n",
       "      <th>4</th>\n",
       "      <td>4</td>\n",
       "      <td>0.039935</td>\n",
       "      <td>0</td>\n",
       "      <td>(-0.000698, 0.0698]</td>\n",
       "      <td>0</td>\n",
       "      <td>0</td>\n",
       "    </tr>\n",
       "  </tbody>\n",
       "</table>\n",
       "</div>"
      ],
      "text/plain": [
       "   Instance  estimated pop  purchased prob_estimate_binned  greater_than_0.5  \\\n",
       "0         0       0.058539          1  (-0.000698, 0.0698]                 0   \n",
       "1         1       0.081055          0       (0.0698, 0.14]                 0   \n",
       "2         2       0.050623          0  (-0.000698, 0.0698]                 0   \n",
       "3         3       0.069877          0       (0.0698, 0.14]                 0   \n",
       "4         4       0.039935          0  (-0.000698, 0.0698]                 0   \n",
       "\n",
       "   greater_than_0.05  \n",
       "0                  1  \n",
       "1                  1  \n",
       "2                  1  \n",
       "3                  1  \n",
       "4                  0  "
      ]
     },
     "execution_count": 17,
     "metadata": {},
     "output_type": "execute_result"
    }
   ],
   "source": [
    "probs_truth.head()"
   ]
  },
  {
   "cell_type": "code",
   "execution_count": 18,
   "metadata": {},
   "outputs": [],
   "source": [
    "from sklearn.model_selection import train_test_split\n",
    "from sklearn.linear_model import LogisticRegression\n",
    "from sklearn.metrics import confusion_matrix\n"
   ]
  },
  {
   "cell_type": "code",
   "execution_count": 19,
   "metadata": {},
   "outputs": [],
   "source": [
    "Y_test = probs_truth['purchased']\n",
    "Y_pred = probs_truth['greater_than_0.5']\n",
    "\n"
   ]
  },
  {
   "cell_type": "code",
   "execution_count": 21,
   "metadata": {},
   "outputs": [
    {
     "data": {
      "text/plain": [
       "0    47943\n",
       "1        1\n",
       "Name: greater_than_0.5, dtype: int64"
      ]
     },
     "execution_count": 21,
     "metadata": {},
     "output_type": "execute_result"
    }
   ],
   "source": [
    "Y_pred.value_counts()"
   ]
  },
  {
   "cell_type": "markdown",
   "metadata": {},
   "source": [
    "#### WITH A THRESHOLD OF >0.5 THE CONFUSION MATRIX WILL BE "
   ]
  },
  {
   "cell_type": "code",
   "execution_count": 22,
   "metadata": {},
   "outputs": [],
   "source": [
    "matrix = confusion_matrix(Y_test,Y_pred)"
   ]
  },
  {
   "cell_type": "code",
   "execution_count": 23,
   "metadata": {},
   "outputs": [
    {
     "name": "stdout",
     "output_type": "stream",
     "text": [
      "[[45548     1]\n",
      " [ 2395     0]]\n"
     ]
    }
   ],
   "source": [
    "print(matrix)"
   ]
  },
  {
   "cell_type": "code",
   "execution_count": 24,
   "metadata": {},
   "outputs": [
    {
     "name": "stdout",
     "output_type": "stream",
     "text": [
      "              precision    recall  f1-score   support\n",
      "\n",
      "           0       0.95      1.00      0.97     45549\n",
      "           1       0.00      0.00      0.00      2395\n",
      "\n",
      "    accuracy                           0.95     47944\n",
      "   macro avg       0.48      0.50      0.49     47944\n",
      "weighted avg       0.90      0.95      0.93     47944\n",
      "\n"
     ]
    }
   ],
   "source": [
    "from sklearn.metrics import classification_report\n",
    "\n",
    "report = classification_report(Y_test, Y_pred)\n",
    "print(report)"
   ]
  },
  {
   "cell_type": "code",
   "execution_count": 25,
   "metadata": {
    "scrolled": false
   },
   "outputs": [
    {
     "data": {
      "image/png": "[encoded data removed]",
      "text/plain": [
       "<Figure size 288x288 with 2 Axes>"
      ]
     },
     "metadata": {
      "needs_background": "light"
     },
     "output_type": "display_data"
    }
   ],
   "source": [
    "import pylab as pl\n",
    "pl.matshow(matrix)\n",
    "pl.title('Confusion matrix of the classifier')\n",
    "pl.colorbar()\n",
    "pl.show()\n"
   ]
  },
  {
   "cell_type": "markdown",
   "metadata": {},
   "source": [
    "### CONFUSION MATRIX AND CLASSIFICATION REPORT FOR Threshold > 0.05"
   ]
  },
  {
   "cell_type": "code",
   "execution_count": 26,
   "metadata": {},
   "outputs": [
    {
     "name": "stdout",
     "output_type": "stream",
     "text": [
      "[[22365 23184]\n",
      " [ 1174  1221]]\n",
      "              precision    recall  f1-score   support\n",
      "\n",
      "           0       0.95      0.49      0.65     45549\n",
      "           1       0.05      0.51      0.09      2395\n",
      "\n",
      "    accuracy                           0.49     47944\n",
      "   macro avg       0.50      0.50      0.37     47944\n",
      "weighted avg       0.91      0.49      0.62     47944\n",
      "\n"
     ]
    }
   ],
   "source": [
    "Y_test_small = probs_truth['purchased']\n",
    "Y_pred_small = probs_truth['greater_than_0.05']\n",
    "matrix_small = confusion_matrix(Y_test_small,Y_pred_small)\n",
    "report = classification_report(Y_test_small, Y_pred_small)\n",
    "print(matrix_small)\n",
    "print(report)"
   ]
  },
  {
   "cell_type": "code",
   "execution_count": null,
   "metadata": {},
   "outputs": [],
   "source": []
  },
  {
   "cell_type": "code",
   "execution_count": null,
   "metadata": {},
   "outputs": [],
   "source": []
  }
 ],
 "metadata": {
  "kernelspec": {
   "display_name": "Python 3",
   "language": "python",
   "name": "python3"
  },
  "language_info": {
   "codemirror_mode": {
    "name": "ipython",
    "version": 3
   },
   "file_extension": ".py",
   "mimetype": "text/x-python",
   "name": "python",
   "nbconvert_exporter": "python",
   "pygments_lexer": "ipython3",
   "version": "3.7.3"
  }
 },
 "nbformat": 4,
 "nbformat_minor": 2
}
