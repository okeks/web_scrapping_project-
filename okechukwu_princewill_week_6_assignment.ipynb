{
 "cells": [
  {
   "cell_type": "code",
   "execution_count": 2,
   "metadata": {},
   "outputs": [
    {
     "data": {
      "text/plain": [
       "'\\nChange get_pnl and get_price\\n\\n'"
      ]
     },
     "execution_count": 2,
     "metadata": {},
     "output_type": "execute_result"
    }
   ],
   "source": [
    "\"\"\"\n",
    "Modify the following get_pnl and get_price so that :\n",
    "get_price returns the actual price from google finance and\n",
    "get_pnl returns a dictionary with the company name as the key and the gain as the value\n",
    "Example :\n",
    "\n",
    "get_pnl()\n",
    "\n",
    "should return(format, values will differ):\n",
    "\n",
    "{'Alphabet, Inc.': -3105.0,\n",
    " 'Apple, Inc.': 60110.0,\n",
    " 'General Electric': 12095.0,\n",
    " 'Goldman Sachs': 112416.5} \n",
    "\n",
    "Note:\n",
    "To connect to your MySQL database you have to get your credentials.\n",
    "Complete your Host, password, user and name as string in the startercode below.\n",
    "\n",
    "Use the provided HTM files to get the stock price from each company!\n",
    "You can open them with:\n",
    "\n",
    "filename=\"AAPL.html\"\n",
    "with open(filename, 'r') as f:\n",
    "    response_page = BeautifulSoup(f, 'lxml')\n",
    "\n",
    "\"\"\"\n",
    "import pymysql\n",
    "import mysql.connector as conn\n",
    "\n",
    "User = \"root\"\n",
    "Name = \"portfolio\"\n",
    "Host = \"localhost\"\n",
    "password = \"Prince009#\"\n",
    "\n",
    "\n",
    "\"\"\"\n",
    "Do Not Change!!\n",
    "\n",
    "\"\"\"\n",
    "db = conn.connect(host = Host, user = User, password = password, database = Name )\n",
    "cursor = db.cursor()\n",
    "\n",
    "file = \"portfolio.txt\"\n",
    "with open(file,'r') as f:\n",
    "    line_count = 0\n",
    "    stocks_set = set()\n",
    "    for line in f:\n",
    "        line = line.strip()\n",
    "\n",
    "        if line_count == 0:\n",
    "            headers = line.split(':')\n",
    "            headers = [x.replace(' ','_') for x in headers]\n",
    "            query1 = \"DROP TABLE IF EXISTS stocks;\"\n",
    "            query2 = \"DROP TABLE IF EXISTS holdings\"\n",
    "            cursor.execute(query1)\n",
    "            cursor.execute(query2)\n",
    "            query1 = \"CREATE TABLE IF NOT EXISTS stocks (\"\n",
    "            query1 += headers[0] + \" VARCHAR(10),\"\n",
    "            query1 += headers[1] + \" VARCHAR(30));\"\n",
    "            query2 = \"CREATE TABLE IF NOT EXISTS holdings (\"\n",
    "            query2 += headers[0] + \" VARCHAR(10),\"\n",
    "            query2 += headers[2] + \" DECIMAL(10,2),\"\n",
    "            query2 += headers[3] + \" INT,\"\n",
    "            query2 += headers[4] + \" DATE);\"\n",
    "            cursor.execute(query1)\n",
    "            cursor.execute(query2)\n",
    "            line_count += 1\n",
    "            continue        \n",
    "        data = line.split(':')\n",
    "        stock_info = (data[0],data[1])\n",
    "        stocks_set.add(stock_info)\n",
    "        holdings_query = 'INSERT INTO holdings VALUES (\"'\n",
    "        holdings_query +=data[0] + '\",'\n",
    "        holdings_query +=data[2] + ','\n",
    "        holdings_query +=data[3] + ',\"'\n",
    "        holdings_query +=data[4] + '\");'\n",
    "        cursor.execute(holdings_query)\n",
    "for s_info in stocks_set:\n",
    "    stock_query = 'INSERT INTO stocks VALUES (\"'\n",
    "    stock_query += s_info[0] + '\",\"'\n",
    "    stock_query += s_info[1] +'\");'\n",
    "    cursor.execute(stock_query)\n",
    "db.commit()\n",
    "db.close()\n",
    "\n",
    "\n",
    "\n",
    "\"\"\"\n",
    "Change get_pnl and get_price\n",
    "\n",
    "\"\"\"\n",
    "\n"
   ]
  },
  {
   "cell_type": "markdown",
   "metadata": {},
   "source": [
    "### THE GET_PRICE FUNCTION "
   ]
  },
  {
   "cell_type": "code",
   "execution_count": 1,
   "metadata": {},
   "outputs": [
    {
     "data": {
      "text/plain": [
       "'11.10'"
      ]
     },
     "execution_count": 1,
     "metadata": {},
     "output_type": "execute_result"
    }
   ],
   "source": [
    "   \n",
    "def get_price(ticker):\n",
    "    import requests\n",
    "    from bs4 import BeautifulSoup\n",
    "    tickers = ['AAPL','GS','GE','GOOG']\n",
    "    stock_price = ''\n",
    "    try:\n",
    "        \n",
    "        for element in tickers:\n",
    "            with open(element+'.html', 'r',encoding = 'utf-8') as f:\n",
    "                response_page = BeautifulSoup(f,'lxml')\n",
    "            # finding our element containing our numeric numbers \n",
    "                card_sec = response_page.find('g-card-section',class_=\"N9cLBc\").find('span').find('span').find('span').get_text()\n",
    "            \n",
    "                if element == ticker:\n",
    "                    stock_price = card_sec\n",
    "    except:\n",
    "        return stock_price\n",
    "\n",
    "    return stock_price\n",
    "\n",
    "get_price('GE')\n"
   ]
  },
  {
   "cell_type": "markdown",
   "metadata": {},
   "source": [
    " ###  THE GET_PNL FUNCTION\n",
    " \n",
    " \n",
    "  #### USING THE CURRENT SHARE PRICE WITH THE LAST SHARE PRICE "
   ]
  },
  {
   "cell_type": "code",
   "execution_count": 4,
   "metadata": {},
   "outputs": [
    {
     "data": {
      "text/plain": [
       "{'Apple, Inc.': '10780.00',\n",
       " 'Alphabet, Inc.': '194960.00',\n",
       " 'Goldman Sachs': '80290.00',\n",
       " 'General Electric': '5460.00'}"
      ]
     },
     "execution_count": 4,
     "metadata": {},
     "output_type": "execute_result"
    }
   ],
   "source": [
    "def get_pnl():\n",
    "    import mysql.connector as conn\n",
    "    gain_dict = dict()\n",
    "    db = conn.connect(host = Host, user = User, password = password, database = Name )\n",
    "    cursor = db.cursor()\n",
    "    query = \"\"\"\n",
    "    select stocks.ticker,company_name,shares,purchase_date,purchase_price\n",
    "    from stocks INNER JOIN holdings ON stocks.ticker=holdings.ticker\n",
    "    order by purchase_date DESC;\n",
    "    \"\"\"\n",
    "    cursor.execute(query)\n",
    "    results = cursor.fetchall()\n",
    "    \n",
    "    \n",
    "  \n",
    "    #COMPARING THE CURRENT SHARE PRICE WITH THE LAST SHARE PRICE \n",
    "\n",
    "    for thing in results:\n",
    "    \n",
    "        ticker = thing[0]\n",
    "        company_name = thing[1]\n",
    "        shares = float(thing[2])\n",
    "        date = thing[3]\n",
    "        purchase_price = float(thing[4])\n",
    "        current_price = float(get_price(thing[0]).replace(',',''))\n",
    "        net_gain = current_price * shares - purchase_price * shares\n",
    "        net_gain = \"%.2f\" % net_gain\n",
    "        \n",
    "        # creating the dictionary\n",
    "        if company_name not in gain_dict:\n",
    "            gain_dict[company_name] = net_gain\n",
    "        \n",
    "        \n",
    "        \n",
    "        \n",
    "        \n",
    "\n",
    "    return gain_dict\n",
    "\n",
    "get_pnl()"
   ]
  },
  {
   "cell_type": "code",
   "execution_count": null,
   "metadata": {},
   "outputs": [],
   "source": []
  },
  {
   "cell_type": "code",
   "execution_count": null,
   "metadata": {},
   "outputs": [],
   "source": []
  },
  {
   "cell_type": "code",
   "execution_count": 8,
   "metadata": {},
   "outputs": [],
   "source": []
  },
  {
   "cell_type": "code",
   "execution_count": null,
   "metadata": {},
   "outputs": [],
   "source": []
  },
  {
   "cell_type": "code",
   "execution_count": null,
   "metadata": {},
   "outputs": [],
   "source": []
  }
 ],
 "metadata": {
  "kernelspec": {
   "display_name": "Python 3",
   "language": "python",
   "name": "python3"
  },
  "language_info": {
   "codemirror_mode": {
    "name": "ipython",
    "version": 3
   },
   "file_extension": ".py",
   "mimetype": "text/x-python",
   "name": "python",
   "nbconvert_exporter": "python",
   "pygments_lexer": "ipython3",
   "version": "3.7.3"
  }
 },
 "nbformat": 4,
 "nbformat_minor": 2
}
